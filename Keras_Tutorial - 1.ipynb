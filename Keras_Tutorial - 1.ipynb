{
  "nbformat": 4,
  "nbformat_minor": 0,
  "metadata": {
    "colab": {
      "name": "Keras Tutorial",
      "provenance": [],
      "collapsed_sections": [],
      "toc_visible": true
    },
    "kernelspec": {
      "name": "python3",
      "display_name": "Python 3"
    }
  },
  "cells": [
    {
      "cell_type": "markdown",
      "metadata": {
        "id": "zsa-NneJ3Tmw"
      },
      "source": [
        "<h1> Simple Keras Tutorial </h1>"
      ]
    },
    {
      "cell_type": "markdown",
      "metadata": {
        "id": "NNa6tT0O3jwf"
      },
      "source": [
        "Importing the libraries for this tutorial."
      ]
    },
    {
      "cell_type": "code",
      "metadata": {
        "id": "CZJVVR7jRIj5"
      },
      "source": [
        "import tensorflow as tf\n",
        "import pandas as pd\n",
        "import numpy as np\n",
        "from tensorflow import keras"
      ],
      "execution_count": 1,
      "outputs": []
    },
    {
      "cell_type": "code",
      "metadata": {
        "id": "J4Hm0CEERLoe"
      },
      "source": [
        "from random import randint\n",
        "from sklearn.utils import shuffle\n",
        "from sklearn.preprocessing import MinMaxScaler"
      ],
      "execution_count": 2,
      "outputs": []
    },
    {
      "cell_type": "code",
      "metadata": {
        "id": "Kno_m4Ef-atE",
        "outputId": "c87c9ad6-146e-4fb5-e15e-1ce3f403b9c0",
        "colab": {
          "base_uri": "https://localhost:8080/",
          "height": 34
        }
      },
      "source": [
        "from google.colab import drive\n",
        "drive.mount('/content/drive', force_remount=True)"
      ],
      "execution_count": 1,
      "outputs": [
        {
          "output_type": "stream",
          "text": [
            "Mounted at /content/drive\n"
          ],
          "name": "stdout"
        }
      ]
    },
    {
      "cell_type": "markdown",
      "metadata": {
        "id": "gbQYcgeX3xa_"
      },
      "source": [
        "We will be producing our own small data for this bi-classification problem."
      ]
    },
    {
      "cell_type": "code",
      "metadata": {
        "id": "bhF1RVopRjg_"
      },
      "source": [
        "train_labels = []\n",
        "train_samples = []"
      ],
      "execution_count": 4,
      "outputs": []
    },
    {
      "cell_type": "code",
      "metadata": {
        "id": "Ix5jKGJWRmJD"
      },
      "source": [
        "for i in range(50):\n",
        "    random_younger = randint(13,64)\n",
        "    train_samples.append(random_younger)\n",
        "    train_labels.append(0)\n",
        "    \n",
        "    random_older = randint(65,100)\n",
        "    train_samples.append(random_older)\n",
        "    train_labels.append(0)\n",
        "\n",
        "for i in range(1000):\n",
        "    random_yonger = randint(13,64)\n",
        "    train_samples.append(random_yonger)\n",
        "    train_labels.append(0)\n",
        "    \n",
        "    random_older = randint(65,100)\n",
        "    train_samples.append(random_older)\n",
        "    train_labels.append(1)"
      ],
      "execution_count": 5,
      "outputs": []
    },
    {
      "cell_type": "markdown",
      "metadata": {
        "id": "6kQjxXtc3-63"
      },
      "source": [
        "We will be converting the produced data into the numpy array and shuffling the data."
      ]
    },
    {
      "cell_type": "code",
      "metadata": {
        "id": "Ick0gwdZRp9I"
      },
      "source": [
        "train_labels = np.array(train_labels)\n",
        "train_samples = np.array(train_samples)\n",
        "\n",
        "train_labels, train_samples = shuffle(train_labels, train_samples)"
      ],
      "execution_count": 6,
      "outputs": []
    },
    {
      "cell_type": "markdown",
      "metadata": {
        "id": "FPfFx4Es4V3G"
      },
      "source": [
        "We will be scaling the data using the MinMaxScaler scaler function from sklearn.preproccessing library. \n",
        "\n"
      ]
    },
    {
      "cell_type": "code",
      "metadata": {
        "id": "u185QUXlRs0a"
      },
      "source": [
        "scaler = MinMaxScaler(feature_range=(0,1))\n",
        "scaled_train_samples = scaler.fit_transform(train_samples.reshape(-1,1))"
      ],
      "execution_count": 7,
      "outputs": []
    },
    {
      "cell_type": "markdown",
      "metadata": {
        "id": "qQ_wZ0Gd4qN8"
      },
      "source": [
        "We will be importing the Dense Network's required structured components i.e., Sequential, Activation Function, Adam Optimizer etc."
      ]
    },
    {
      "cell_type": "code",
      "metadata": {
        "id": "MPrDjqhWRwCx"
      },
      "source": [
        "from tensorflow.keras.models import Sequential\n",
        "from tensorflow.keras.layers import Activation, Dense\n",
        "from tensorflow.keras.optimizers import Adam\n",
        "from tensorflow.keras.metrics import categorical_crossentropy"
      ],
      "execution_count": 8,
      "outputs": []
    },
    {
      "cell_type": "markdown",
      "metadata": {
        "id": "C0rUdIxX5Xgt"
      },
      "source": [
        "We have initialized the Hidden Layers of the Simple Dense model (Fully Connected Network). We have initialized the 3 hidden layers."
      ]
    },
    {
      "cell_type": "code",
      "metadata": {
        "id": "TwnFVSujR6UX"
      },
      "source": [
        "model = Sequential([\n",
        "    Dense(units=16, input_shape=(1,), activation='relu'),\n",
        "    Dense(units=32, activation='relu'),\n",
        "    Dense(units=2, activation='softmax')\n",
        "])"
      ],
      "execution_count": 9,
      "outputs": []
    },
    {
      "cell_type": "markdown",
      "metadata": {
        "id": "lGrLPcqD59Zi"
      },
      "source": [
        "This will provide you the visiable information of the model."
      ]
    },
    {
      "cell_type": "code",
      "metadata": {
        "id": "jD0YmiHhR9JD",
        "outputId": "1f44424b-8e50-4acc-b58a-b2f365b4ea8a",
        "colab": {
          "base_uri": "https://localhost:8080/",
          "height": 255
        }
      },
      "source": [
        "model.summary()"
      ],
      "execution_count": 10,
      "outputs": [
        {
          "output_type": "stream",
          "text": [
            "Model: \"sequential\"\n",
            "_________________________________________________________________\n",
            "Layer (type)                 Output Shape              Param #   \n",
            "=================================================================\n",
            "dense (Dense)                (None, 16)                32        \n",
            "_________________________________________________________________\n",
            "dense_1 (Dense)              (None, 32)                544       \n",
            "_________________________________________________________________\n",
            "dense_2 (Dense)              (None, 2)                 66        \n",
            "=================================================================\n",
            "Total params: 642\n",
            "Trainable params: 642\n",
            "Non-trainable params: 0\n",
            "_________________________________________________________________\n"
          ],
          "name": "stdout"
        }
      ]
    },
    {
      "cell_type": "markdown",
      "metadata": {
        "id": "o6cSpA5U6P4f"
      },
      "source": [
        "We will compile the model with Adam Optimizer (Learning Rate = 0.0001), Loss Function: Sparse Categorical Crossentropy."
      ]
    },
    {
      "cell_type": "code",
      "metadata": {
        "id": "gwpp2hm4R9MZ"
      },
      "source": [
        "model.compile(optimizer= Adam(learning_rate=0.0001), loss='sparse_categorical_crossentropy', metrics=['accuracy'])"
      ],
      "execution_count": 11,
      "outputs": []
    },
    {
      "cell_type": "markdown",
      "metadata": {
        "id": "XUvicue76kKE"
      },
      "source": [
        "We will train the model with validation= 0.1, batch size of 10 and with 30 epochs."
      ]
    },
    {
      "cell_type": "code",
      "metadata": {
        "id": "AY9kP80qR9PG",
        "outputId": "cdcdb530-f271-4010-b209-0015c72d160e",
        "colab": {
          "base_uri": "https://localhost:8080/",
          "height": 1000
        }
      },
      "source": [
        "model.fit(x=scaled_train_samples, y=train_labels, validation_split=0.1, batch_size=10, epochs=30, shuffle=True,\n",
        "         verbose=1)"
      ],
      "execution_count": 12,
      "outputs": [
        {
          "output_type": "stream",
          "text": [
            "Epoch 1/30\n",
            "189/189 [==============================] - 0s 1ms/step - loss: 0.7577 - accuracy: 0.4899 - val_loss: 0.7461 - val_accuracy: 0.4381\n",
            "Epoch 2/30\n",
            "189/189 [==============================] - 0s 755us/step - loss: 0.7262 - accuracy: 0.5190 - val_loss: 0.7152 - val_accuracy: 0.5000\n",
            "Epoch 3/30\n",
            "189/189 [==============================] - 0s 725us/step - loss: 0.7011 - accuracy: 0.5265 - val_loss: 0.6898 - val_accuracy: 0.5000\n",
            "Epoch 4/30\n",
            "189/189 [==============================] - 0s 724us/step - loss: 0.6791 - accuracy: 0.8164 - val_loss: 0.6679 - val_accuracy: 0.8429\n",
            "Epoch 5/30\n",
            "189/189 [==============================] - 0s 720us/step - loss: 0.6619 - accuracy: 0.8085 - val_loss: 0.6522 - val_accuracy: 0.8571\n",
            "Epoch 6/30\n",
            "189/189 [==============================] - 0s 702us/step - loss: 0.6465 - accuracy: 0.8270 - val_loss: 0.6351 - val_accuracy: 0.8571\n",
            "Epoch 7/30\n",
            "189/189 [==============================] - 0s 703us/step - loss: 0.6291 - accuracy: 0.8296 - val_loss: 0.6157 - val_accuracy: 0.8762\n",
            "Epoch 8/30\n",
            "189/189 [==============================] - 0s 698us/step - loss: 0.6107 - accuracy: 0.8455 - val_loss: 0.5963 - val_accuracy: 0.8762\n",
            "Epoch 9/30\n",
            "189/189 [==============================] - 0s 732us/step - loss: 0.5916 - accuracy: 0.8614 - val_loss: 0.5755 - val_accuracy: 0.8762\n",
            "Epoch 10/30\n",
            "189/189 [==============================] - 0s 713us/step - loss: 0.5713 - accuracy: 0.8630 - val_loss: 0.5539 - val_accuracy: 0.8905\n",
            "Epoch 11/30\n",
            "189/189 [==============================] - 0s 744us/step - loss: 0.5498 - accuracy: 0.8730 - val_loss: 0.5311 - val_accuracy: 0.8905\n",
            "Epoch 12/30\n",
            "189/189 [==============================] - 0s 752us/step - loss: 0.5278 - accuracy: 0.8788 - val_loss: 0.5079 - val_accuracy: 0.8952\n",
            "Epoch 13/30\n",
            "189/189 [==============================] - 0s 707us/step - loss: 0.5054 - accuracy: 0.8915 - val_loss: 0.4847 - val_accuracy: 0.9095\n",
            "Epoch 14/30\n",
            "189/189 [==============================] - 0s 701us/step - loss: 0.4831 - accuracy: 0.9000 - val_loss: 0.4618 - val_accuracy: 0.9143\n",
            "Epoch 15/30\n",
            "189/189 [==============================] - 0s 701us/step - loss: 0.4610 - accuracy: 0.9063 - val_loss: 0.4391 - val_accuracy: 0.9286\n",
            "Epoch 16/30\n",
            "189/189 [==============================] - 0s 708us/step - loss: 0.4396 - accuracy: 0.9175 - val_loss: 0.4172 - val_accuracy: 0.9333\n",
            "Epoch 17/30\n",
            "189/189 [==============================] - 0s 734us/step - loss: 0.4193 - accuracy: 0.9222 - val_loss: 0.3965 - val_accuracy: 0.9333\n",
            "Epoch 18/30\n",
            "189/189 [==============================] - 0s 708us/step - loss: 0.4001 - accuracy: 0.9291 - val_loss: 0.3775 - val_accuracy: 0.9429\n",
            "Epoch 19/30\n",
            "189/189 [==============================] - 0s 712us/step - loss: 0.3820 - accuracy: 0.9328 - val_loss: 0.3593 - val_accuracy: 0.9524\n",
            "Epoch 20/30\n",
            "189/189 [==============================] - 0s 706us/step - loss: 0.3655 - accuracy: 0.9397 - val_loss: 0.3423 - val_accuracy: 0.9524\n",
            "Epoch 21/30\n",
            "189/189 [==============================] - 0s 690us/step - loss: 0.3501 - accuracy: 0.9423 - val_loss: 0.3270 - val_accuracy: 0.9524\n",
            "Epoch 22/30\n",
            "189/189 [==============================] - 0s 684us/step - loss: 0.3362 - accuracy: 0.9429 - val_loss: 0.3126 - val_accuracy: 0.9667\n",
            "Epoch 23/30\n",
            "189/189 [==============================] - 0s 692us/step - loss: 0.3232 - accuracy: 0.9466 - val_loss: 0.2999 - val_accuracy: 0.9667\n",
            "Epoch 24/30\n",
            "189/189 [==============================] - 0s 734us/step - loss: 0.3115 - accuracy: 0.9497 - val_loss: 0.2880 - val_accuracy: 0.9667\n",
            "Epoch 25/30\n",
            "189/189 [==============================] - 0s 692us/step - loss: 0.3009 - accuracy: 0.9476 - val_loss: 0.2774 - val_accuracy: 0.9762\n",
            "Epoch 26/30\n",
            "189/189 [==============================] - 0s 716us/step - loss: 0.2912 - accuracy: 0.9550 - val_loss: 0.2676 - val_accuracy: 0.9762\n",
            "Epoch 27/30\n",
            "189/189 [==============================] - 0s 760us/step - loss: 0.2824 - accuracy: 0.9561 - val_loss: 0.2587 - val_accuracy: 0.9762\n",
            "Epoch 28/30\n",
            "189/189 [==============================] - 0s 686us/step - loss: 0.2744 - accuracy: 0.9561 - val_loss: 0.2502 - val_accuracy: 0.9762\n",
            "Epoch 29/30\n",
            "189/189 [==============================] - 0s 712us/step - loss: 0.2672 - accuracy: 0.9561 - val_loss: 0.2438 - val_accuracy: 0.9762\n",
            "Epoch 30/30\n",
            "189/189 [==============================] - 0s 745us/step - loss: 0.2604 - accuracy: 0.9577 - val_loss: 0.2371 - val_accuracy: 0.9762\n"
          ],
          "name": "stdout"
        },
        {
          "output_type": "execute_result",
          "data": {
            "text/plain": [
              "<tensorflow.python.keras.callbacks.History at 0x7f1e4fba3828>"
            ]
          },
          "metadata": {
            "tags": []
          },
          "execution_count": 12
        }
      ]
    },
    {
      "cell_type": "markdown",
      "metadata": {
        "id": "mn4M1DPZ7JaY"
      },
      "source": [
        "We will produce the test data (samples and labels)."
      ]
    },
    {
      "cell_type": "code",
      "metadata": {
        "id": "Sljl5BV6R9Rj"
      },
      "source": [
        "test_labels = []\n",
        "test_samples = []"
      ],
      "execution_count": 13,
      "outputs": []
    },
    {
      "cell_type": "code",
      "metadata": {
        "id": "mdHJlC6gVaRV"
      },
      "source": [
        "for i in range(10):\n",
        "    random_younger = randint(13,64)\n",
        "    test_samples.append(random_younger)\n",
        "    test_labels.append(0)\n",
        "    \n",
        "    random_older = randint(65,100)\n",
        "    test_samples.append(random_older)\n",
        "    test_labels.append(0)\n",
        "\n",
        "for i in range(200):\n",
        "    random_yonger = randint(13,64)\n",
        "    test_samples.append(random_yonger)\n",
        "    test_labels.append(0)\n",
        "    \n",
        "    random_older = randint(65,100)\n",
        "    test_samples.append(random_older)\n",
        "    test_labels.append(1)"
      ],
      "execution_count": 14,
      "outputs": []
    },
    {
      "cell_type": "code",
      "metadata": {
        "id": "h-9AbYL5V5Un"
      },
      "source": [
        "test_labels = np.array(test_labels)\n",
        "test_samples = np.array(test_samples)\n",
        "test_labels, test_samples = shuffle(test_labels, test_samples)"
      ],
      "execution_count": 15,
      "outputs": []
    },
    {
      "cell_type": "code",
      "metadata": {
        "id": "y2c6xWdGWbaT"
      },
      "source": [
        "scaled_train_samples = scaler.fit_transform(test_samples.reshape(-1,1))"
      ],
      "execution_count": 16,
      "outputs": []
    },
    {
      "cell_type": "markdown",
      "metadata": {
        "id": "FlA__O3R79QD"
      },
      "source": [
        "We will now do prediction during testing our bi-classification Model. "
      ]
    },
    {
      "cell_type": "code",
      "metadata": {
        "id": "Ksu1QDK3WkCn"
      },
      "source": [
        "predictions = model.predict(x = scaled_train_samples, batch_size = 10, verbose = 0)  "
      ],
      "execution_count": 17,
      "outputs": []
    },
    {
      "cell_type": "code",
      "metadata": {
        "id": "_NuF66QqWyci"
      },
      "source": [
        "round_predictions = np.argmax(predictions, axis=-1)"
      ],
      "execution_count": 18,
      "outputs": []
    },
    {
      "cell_type": "code",
      "metadata": {
        "id": "BWkpvUa4W9nt",
        "outputId": "64704ed1-1ba5-4345-85b5-1f21f609585b",
        "colab": {
          "base_uri": "https://localhost:8080/",
          "height": 37
        }
      },
      "source": [
        "\"\"\"\n",
        "for i in predictions:\n",
        "  print(i)\n",
        "\"\"\""
      ],
      "execution_count": 19,
      "outputs": [
        {
          "output_type": "execute_result",
          "data": {
            "application/vnd.google.colaboratory.intrinsic+json": {
              "type": "string"
            },
            "text/plain": [
              "'\\nfor i in predictions:\\n  print(i)\\n'"
            ]
          },
          "metadata": {
            "tags": []
          },
          "execution_count": 19
        }
      ]
    },
    {
      "cell_type": "code",
      "metadata": {
        "id": "kK2DETn8XBaA",
        "outputId": "c246667c-9b0b-4c29-d7ae-0dace51bd1d1",
        "colab": {
          "base_uri": "https://localhost:8080/",
          "height": 37
        }
      },
      "source": [
        "\"\"\"\n",
        "for i in round_predictions:\n",
        "  print(i)\n",
        "\"\"\""
      ],
      "execution_count": 20,
      "outputs": [
        {
          "output_type": "execute_result",
          "data": {
            "application/vnd.google.colaboratory.intrinsic+json": {
              "type": "string"
            },
            "text/plain": [
              "'\\nfor i in round_predictions:\\n  print(i)\\n'"
            ]
          },
          "metadata": {
            "tags": []
          },
          "execution_count": 20
        }
      ]
    },
    {
      "cell_type": "code",
      "metadata": {
        "id": "_ju9cjN-XBNa",
        "outputId": "37729bd6-e43a-451a-b247-cc01d26db596",
        "colab": {
          "base_uri": "https://localhost:8080/",
          "height": 34
        }
      },
      "source": [
        "%matplotlib\n",
        "from sklearn.metrics import confusion_matrix\n",
        "import itertools\n",
        "import matplotlib.pyplot as plt"
      ],
      "execution_count": 21,
      "outputs": [
        {
          "output_type": "stream",
          "text": [
            "Using matplotlib backend: agg\n"
          ],
          "name": "stdout"
        }
      ]
    },
    {
      "cell_type": "code",
      "metadata": {
        "id": "MOPeakP8ZjDJ"
      },
      "source": [
        "cm = confusion_matrix(y_true = test_labels, y_pred = round_predictions)"
      ],
      "execution_count": 22,
      "outputs": []
    },
    {
      "cell_type": "code",
      "metadata": {
        "id": "Jn28st0mFk6A",
        "outputId": "40ab2be3-4741-48b2-b976-17a056e2c90f",
        "colab": {
          "base_uri": "https://localhost:8080/",
          "height": 51
        }
      },
      "source": [
        "cm"
      ],
      "execution_count": 23,
      "outputs": [
        {
          "output_type": "execute_result",
          "data": {
            "text/plain": [
              "array([[205,  15],\n",
              "       [  0, 200]])"
            ]
          },
          "metadata": {
            "tags": []
          },
          "execution_count": 23
        }
      ]
    },
    {
      "cell_type": "code",
      "metadata": {
        "id": "7H-kRL5AZs7x",
        "outputId": "9f5ca92b-67a2-4315-e6e6-415f425641ce",
        "colab": {
          "base_uri": "https://localhost:8080/",
          "height": 173
        }
      },
      "source": [
        "\"\"\"\n",
        "def plot_confusion_matrix(cm, classes, normalize = False, title = 'Confusion Matrix',cmap = plt.cm.Blues):\n",
        "  \n",
        "  plt.imshow(cm, interpolation = 'nearest', cmap = cmap)\n",
        "  plt.title(title)\n",
        "  plt.colorbar()\n",
        "  tick_marks = np.arange(len(classes))\n",
        "  plt.xticks(tick_marks, classes, rotation = 45)\n",
        "  plt.yticks(tick_marks, classes)\n",
        "\n",
        "  if normalize:\n",
        "    cm = cm.astype('float') / cm.sum(axis=1)[:, np.newaxis]\n",
        "    print(\"Normalized confusion Matrix\")\n",
        "  else:\n",
        "    print(\"Confusion Matrix, without normalization\")\n",
        "\n",
        "  print(cm)\n",
        "\n",
        "  thresh = cm.max()/2\n",
        "\n",
        "  for i, j in itertools.product(range(cm.shape[0]), range(cm.shape[1])):\n",
        "    plt.text(j, i, cm[i, j],horizontalalignment = \"center\", color = \"white\" if cm[i, j] > thresh else \"black\")\n",
        "    \n",
        "  plt.tight_layout()\n",
        "  plt.ylabel('True label')\n",
        "  plt.xlabel('Predicted label')\n",
        "  \"\"\""
      ],
      "execution_count": 24,
      "outputs": [
        {
          "output_type": "execute_result",
          "data": {
            "application/vnd.google.colaboratory.intrinsic+json": {
              "type": "string"
            },
            "text/plain": [
              "'\\ndef plot_confusion_matrix(cm, classes, normalize = False, title = \\'Confusion Matrix\\',cmap = plt.cm.Blues):\\n  \\n  plt.imshow(cm, interpolation = \\'nearest\\', cmap = cmap)\\n  plt.title(title)\\n  plt.colorbar()\\n  tick_marks = np.arange(len(classes))\\n  plt.xticks(tick_marks, classes, rotation = 45)\\n  plt.yticks(tick_marks, classes)\\n\\n  if normalize:\\n    cm = cm.astype(\\'float\\') / cm.sum(axis=1)[:, np.newaxis]\\n    print(\"Normalized confusion Matrix\")\\n  else:\\n    print(\"Confusion Matrix, without normalization\")\\n\\n  print(cm)\\n\\n  thresh = cm.max()/2\\n\\n  for i, j in itertools.product(range(cm.shape[0]), range(cm.shape[1])):\\n    plt.text(j, i, cm[i, j],horizontalalignment = \"center\", color = \"white\" if cm[i, j] > thresh else \"black\")\\n    \\n  plt.tight_layout()\\n  plt.ylabel(\\'True label\\')\\n  plt.xlabel(\\'Predicted label\\')\\n  '"
            ]
          },
          "metadata": {
            "tags": []
          },
          "execution_count": 24
        }
      ]
    },
    {
      "cell_type": "code",
      "metadata": {
        "id": "9WmYbWgdcYZQ",
        "outputId": "8fb39a30-1a2b-488e-f2a9-82307d7edce2",
        "colab": {
          "base_uri": "https://localhost:8080/",
          "height": 54
        }
      },
      "source": [
        "\"\"\"\n",
        "cm_plot_labels = ['no_side_effects', 'had_side_effects']\n",
        "plot_confusion_matrix(cm = cm, classes = cm_plot_labels, title = 'Confusion Matrix')\n",
        "\"\"\""
      ],
      "execution_count": 25,
      "outputs": [
        {
          "output_type": "execute_result",
          "data": {
            "application/vnd.google.colaboratory.intrinsic+json": {
              "type": "string"
            },
            "text/plain": [
              "\"\\ncm_plot_labels = ['no_side_effects', 'had_side_effects']\\nplot_confusion_matrix(cm = cm, classes = cm_plot_labels, title = 'Confusion Matrix')\\n\""
            ]
          },
          "metadata": {
            "tags": []
          },
          "execution_count": 25
        }
      ]
    },
    {
      "cell_type": "code",
      "metadata": {
        "id": "UWC8lJSJcwb_"
      },
      "source": [
        "import os.path\n",
        "#model.save('/content/drive/My Drive/Colab Notebooks/medical_trial_model.h5')"
      ],
      "execution_count": 26,
      "outputs": []
    },
    {
      "cell_type": "code",
      "metadata": {
        "id": "JMS8ABcKH25x"
      },
      "source": [
        "from tensorflow.keras.models import load_model\n",
        "new_model = load_model('/content/drive/My Drive/Colab Notebooks/medical_trial_model.h5')"
      ],
      "execution_count": 27,
      "outputs": []
    },
    {
      "cell_type": "code",
      "metadata": {
        "id": "55a-TJB0IqMu"
      },
      "source": [
        "new_model.get_weights()"
      ],
      "execution_count": null,
      "outputs": []
    },
    {
      "cell_type": "code",
      "metadata": {
        "id": "7nVJek6cN0Ab",
        "outputId": "4169cff5-09ed-480c-e92e-0b164432aee7",
        "colab": {
          "base_uri": "https://localhost:8080/",
          "height": 71
        }
      },
      "source": [
        "\"\"\"\n",
        "import os.path\n",
        "if os.path.isfile('/contents/drive/My Drive/Colab Notebooks/med_trial_model_weights.h5') is False:\n",
        "  model.save_weights('/contents/drive/My Drive/Colab Notebooks/med_trial_model_weights.h5')\n",
        "  \"\"\""
      ],
      "execution_count": 30,
      "outputs": [
        {
          "output_type": "execute_result",
          "data": {
            "application/vnd.google.colaboratory.intrinsic+json": {
              "type": "string"
            },
            "text/plain": [
              "\"\\nimport os.path\\nif os.path.isfile('/contents/drive/My Drive/Colab Notebooks/med_trial_model_weights.h5') is False:\\n  model.save_weights('/contents/drive/My Drive/Colab Notebooks/med_trial_model_weights.h5')\\n  \""
            ]
          },
          "metadata": {
            "tags": []
          },
          "execution_count": 30
        }
      ]
    }
  ]
}