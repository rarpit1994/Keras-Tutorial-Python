{
  "nbformat": 4,
  "nbformat_minor": 0,
  "metadata": {
    "colab": {
      "name": "Keras Tutorial.ipynb",
      "provenance": [],
      "collapsed_sections": []
    },
    "kernelspec": {
      "name": "python3",
      "display_name": "Python 3"
    }
  },
  "cells": [
    {
      "cell_type": "code",
      "metadata": {
        "id": "CZJVVR7jRIj5"
      },
      "source": [
        "import tensorflow as tf\n",
        "import pandas as pd\n",
        "import numpy as np\n",
        "from tensorflow import keras"
      ],
      "execution_count": 14,
      "outputs": []
    },
    {
      "cell_type": "code",
      "metadata": {
        "id": "J4Hm0CEERLoe"
      },
      "source": [
        "from random import randint\n",
        "from sklearn.utils import shuffle\n",
        "from sklearn.preprocessing import MinMaxScaler"
      ],
      "execution_count": 15,
      "outputs": []
    },
    {
      "cell_type": "code",
      "metadata": {
        "id": "bhF1RVopRjg_"
      },
      "source": [
        "train_labels = []\n",
        "train_samples = []"
      ],
      "execution_count": 16,
      "outputs": []
    },
    {
      "cell_type": "code",
      "metadata": {
        "id": "Ix5jKGJWRmJD"
      },
      "source": [
        "for i in range(50):\n",
        "    random_younger = randint(13,64)\n",
        "    train_samples.append(random_younger)\n",
        "    train_labels.append(0)\n",
        "    \n",
        "    random_older = randint(65,100)\n",
        "    train_samples.append(random_older)\n",
        "    train_labels.append(0)\n",
        "\n",
        "for i in range(1000):\n",
        "    random_yonger = randint(13,64)\n",
        "    train_samples.append(random_yonger)\n",
        "    train_labels.append(0)\n",
        "    \n",
        "    random_older = randint(65,100)\n",
        "    train_samples.append(random_older)\n",
        "    train_labels.append(1)"
      ],
      "execution_count": 17,
      "outputs": []
    },
    {
      "cell_type": "code",
      "metadata": {
        "id": "Ick0gwdZRp9I"
      },
      "source": [
        "train_labels = np.array(train_labels)\n",
        "train_samples = np.array(train_samples)\n",
        "\n",
        "train_labels, train_samples = shuffle(train_labels, train_samples)"
      ],
      "execution_count": 18,
      "outputs": []
    },
    {
      "cell_type": "code",
      "metadata": {
        "id": "u185QUXlRs0a"
      },
      "source": [
        "scaler = MinMaxScaler(feature_range=(0,1))\n",
        "scaled_train_samples = scaler.fit_transform(train_samples.reshape(-1,1))"
      ],
      "execution_count": 19,
      "outputs": []
    },
    {
      "cell_type": "code",
      "metadata": {
        "id": "MPrDjqhWRwCx"
      },
      "source": [
        "from tensorflow.keras.models import Sequential\n",
        "from tensorflow.keras.layers import Activation, Dense\n",
        "from tensorflow.keras.optimizers import Adam\n",
        "from tensorflow.keras.metrics import categorical_crossentropy"
      ],
      "execution_count": 20,
      "outputs": []
    },
    {
      "cell_type": "code",
      "metadata": {
        "id": "TwnFVSujR6UX"
      },
      "source": [
        "model = Sequential([\n",
        "    Dense(units=16, input_shape=(1,), activation='relu'),\n",
        "    Dense(units=32, activation='relu'),\n",
        "    Dense(units=2, activation='softmax')\n",
        "    \n",
        "])"
      ],
      "execution_count": 21,
      "outputs": []
    },
    {
      "cell_type": "code",
      "metadata": {
        "id": "jD0YmiHhR9JD",
        "outputId": "e9fc5cb2-97ac-48f6-b3e9-ef305321f13a",
        "colab": {
          "base_uri": "https://localhost:8080/",
          "height": 255
        }
      },
      "source": [
        "model.summary()"
      ],
      "execution_count": 22,
      "outputs": [
        {
          "output_type": "stream",
          "text": [
            "Model: \"sequential_1\"\n",
            "_________________________________________________________________\n",
            "Layer (type)                 Output Shape              Param #   \n",
            "=================================================================\n",
            "dense_3 (Dense)              (None, 16)                32        \n",
            "_________________________________________________________________\n",
            "dense_4 (Dense)              (None, 32)                544       \n",
            "_________________________________________________________________\n",
            "dense_5 (Dense)              (None, 2)                 66        \n",
            "=================================================================\n",
            "Total params: 642\n",
            "Trainable params: 642\n",
            "Non-trainable params: 0\n",
            "_________________________________________________________________\n"
          ],
          "name": "stdout"
        }
      ]
    },
    {
      "cell_type": "code",
      "metadata": {
        "id": "gwpp2hm4R9MZ"
      },
      "source": [
        "model.compile(optimizer= Adam(learning_rate=0.0001), loss='sparse_categorical_crossentropy', metrics=['accuracy'])"
      ],
      "execution_count": 23,
      "outputs": []
    },
    {
      "cell_type": "code",
      "metadata": {
        "id": "AY9kP80qR9PG",
        "outputId": "c74c7fab-06de-471f-cbee-b3d1ce0acf27",
        "colab": {
          "base_uri": "https://localhost:8080/",
          "height": 1000
        }
      },
      "source": [
        "model.fit(x=scaled_train_samples, y=train_labels, validation_split=0.1, batch_size=10, epochs=30, shuffle=True,\n",
        "         verbose=2)"
      ],
      "execution_count": 27,
      "outputs": [
        {
          "output_type": "stream",
          "text": [
            "Epoch 1/30\n",
            "189/189 - 0s - loss: 0.4248 - accuracy: 0.9159 - val_loss: 0.4094 - val_accuracy: 0.9524\n",
            "Epoch 2/30\n",
            "189/189 - 0s - loss: 0.3977 - accuracy: 0.9243 - val_loss: 0.3828 - val_accuracy: 0.9524\n",
            "Epoch 3/30\n",
            "189/189 - 0s - loss: 0.3728 - accuracy: 0.9317 - val_loss: 0.3580 - val_accuracy: 0.9524\n",
            "Epoch 4/30\n",
            "189/189 - 0s - loss: 0.3501 - accuracy: 0.9328 - val_loss: 0.3367 - val_accuracy: 0.9571\n",
            "Epoch 5/30\n",
            "189/189 - 0s - loss: 0.3300 - accuracy: 0.9434 - val_loss: 0.3174 - val_accuracy: 0.9571\n",
            "Epoch 6/30\n",
            "189/189 - 0s - loss: 0.3124 - accuracy: 0.9444 - val_loss: 0.3010 - val_accuracy: 0.9667\n",
            "Epoch 7/30\n",
            "189/189 - 0s - loss: 0.2970 - accuracy: 0.9524 - val_loss: 0.2868 - val_accuracy: 0.9667\n",
            "Epoch 8/30\n",
            "189/189 - 0s - loss: 0.2836 - accuracy: 0.9598 - val_loss: 0.2723 - val_accuracy: 0.9667\n",
            "Epoch 9/30\n",
            "189/189 - 0s - loss: 0.2719 - accuracy: 0.9566 - val_loss: 0.2624 - val_accuracy: 0.9762\n",
            "Epoch 10/30\n",
            "189/189 - 0s - loss: 0.2618 - accuracy: 0.9566 - val_loss: 0.2522 - val_accuracy: 0.9762\n",
            "Epoch 11/30\n",
            "189/189 - 0s - loss: 0.2529 - accuracy: 0.9651 - val_loss: 0.2432 - val_accuracy: 0.9762\n",
            "Epoch 12/30\n",
            "189/189 - 0s - loss: 0.2451 - accuracy: 0.9651 - val_loss: 0.2357 - val_accuracy: 0.9762\n",
            "Epoch 13/30\n",
            "189/189 - 0s - loss: 0.2383 - accuracy: 0.9614 - val_loss: 0.2306 - val_accuracy: 0.9857\n",
            "Epoch 14/30\n",
            "189/189 - 0s - loss: 0.2322 - accuracy: 0.9667 - val_loss: 0.2217 - val_accuracy: 0.9762\n",
            "Epoch 15/30\n",
            "189/189 - 0s - loss: 0.2269 - accuracy: 0.9683 - val_loss: 0.2160 - val_accuracy: 0.9762\n",
            "Epoch 16/30\n",
            "189/189 - 0s - loss: 0.2218 - accuracy: 0.9735 - val_loss: 0.2094 - val_accuracy: 0.9762\n",
            "Epoch 17/30\n",
            "189/189 - 0s - loss: 0.2179 - accuracy: 0.9677 - val_loss: 0.2057 - val_accuracy: 0.9762\n",
            "Epoch 18/30\n",
            "189/189 - 0s - loss: 0.2138 - accuracy: 0.9735 - val_loss: 0.2012 - val_accuracy: 0.9762\n",
            "Epoch 19/30\n",
            "189/189 - 0s - loss: 0.2102 - accuracy: 0.9683 - val_loss: 0.1987 - val_accuracy: 0.9857\n",
            "Epoch 20/30\n",
            "189/189 - 0s - loss: 0.2074 - accuracy: 0.9704 - val_loss: 0.1957 - val_accuracy: 0.9857\n",
            "Epoch 21/30\n",
            "189/189 - 0s - loss: 0.2042 - accuracy: 0.9741 - val_loss: 0.1907 - val_accuracy: 0.9857\n",
            "Epoch 22/30\n",
            "189/189 - 0s - loss: 0.2014 - accuracy: 0.9730 - val_loss: 0.1880 - val_accuracy: 0.9857\n",
            "Epoch 23/30\n",
            "189/189 - 0s - loss: 0.1989 - accuracy: 0.9735 - val_loss: 0.1866 - val_accuracy: 0.9857\n",
            "Epoch 24/30\n",
            "189/189 - 0s - loss: 0.1965 - accuracy: 0.9751 - val_loss: 0.1828 - val_accuracy: 0.9857\n",
            "Epoch 25/30\n",
            "189/189 - 0s - loss: 0.1942 - accuracy: 0.9751 - val_loss: 0.1803 - val_accuracy: 0.9857\n",
            "Epoch 26/30\n",
            "189/189 - 0s - loss: 0.1924 - accuracy: 0.9746 - val_loss: 0.1768 - val_accuracy: 0.9857\n",
            "Epoch 27/30\n",
            "189/189 - 0s - loss: 0.1903 - accuracy: 0.9751 - val_loss: 0.1742 - val_accuracy: 0.9857\n",
            "Epoch 28/30\n",
            "189/189 - 0s - loss: 0.1885 - accuracy: 0.9751 - val_loss: 0.1729 - val_accuracy: 0.9857\n",
            "Epoch 29/30\n",
            "189/189 - 0s - loss: 0.1865 - accuracy: 0.9709 - val_loss: 0.1687 - val_accuracy: 0.9762\n",
            "Epoch 30/30\n",
            "189/189 - 0s - loss: 0.1851 - accuracy: 0.9709 - val_loss: 0.1700 - val_accuracy: 0.9857\n"
          ],
          "name": "stdout"
        },
        {
          "output_type": "execute_result",
          "data": {
            "text/plain": [
              "<tensorflow.python.keras.callbacks.History at 0x7fe2587f7a58>"
            ]
          },
          "metadata": {
            "tags": []
          },
          "execution_count": 27
        }
      ]
    },
    {
      "cell_type": "code",
      "metadata": {
        "id": "Sljl5BV6R9Rj"
      },
      "source": [
        "test_labels = []\n",
        "test_samples = []"
      ],
      "execution_count": 28,
      "outputs": []
    },
    {
      "cell_type": "code",
      "metadata": {
        "id": "mdHJlC6gVaRV"
      },
      "source": [
        "for i in range(10):\n",
        "    random_younger = randint(13,64)\n",
        "    test_samples.append(random_younger)\n",
        "    test_labels.append(0)\n",
        "    \n",
        "    random_older = randint(65,100)\n",
        "    test_samples.append(random_older)\n",
        "    test_labels.append(0)\n",
        "\n",
        "for i in range(200):\n",
        "    random_yonger = randint(13,64)\n",
        "    test_samples.append(random_yonger)\n",
        "    test_labels.append(0)\n",
        "    \n",
        "    random_older = randint(65,100)\n",
        "    test_samples.append(random_older)\n",
        "    test_labels.append(1)"
      ],
      "execution_count": 30,
      "outputs": []
    },
    {
      "cell_type": "code",
      "metadata": {
        "id": "h-9AbYL5V5Un"
      },
      "source": [
        "test_labels = np.array(test_labels)\n",
        "test_samples = np.array(test_samples)\n",
        "test_labels, test_samples = shuffle(test_labels, test_samples)"
      ],
      "execution_count": 31,
      "outputs": []
    },
    {
      "cell_type": "code",
      "metadata": {
        "id": "y2c6xWdGWbaT"
      },
      "source": [
        "scaled_train_samples = scaler.fit_transform(test_samples.reshape(-1,1))"
      ],
      "execution_count": 32,
      "outputs": []
    },
    {
      "cell_type": "code",
      "metadata": {
        "id": "Ksu1QDK3WkCn"
      },
      "source": [
        "predictions = model.predict(x = scaled_train_samples, batch_size = 10, verbose = 0)  "
      ],
      "execution_count": 33,
      "outputs": []
    },
    {
      "cell_type": "code",
      "metadata": {
        "id": "_NuF66QqWyci"
      },
      "source": [
        "round_predictions = np.argmax(predictions, axis=-1)"
      ],
      "execution_count": 34,
      "outputs": []
    },
    {
      "cell_type": "code",
      "metadata": {
        "id": "BWkpvUa4W9nt"
      },
      "source": [
        "for i in predictions:\n",
        "  print(i)"
      ],
      "execution_count": null,
      "outputs": []
    },
    {
      "cell_type": "code",
      "metadata": {
        "id": "kK2DETn8XBaA"
      },
      "source": [
        "for i in round_predictions:\n",
        "  print(i)"
      ],
      "execution_count": null,
      "outputs": []
    },
    {
      "cell_type": "code",
      "metadata": {
        "id": "_ju9cjN-XBNa",
        "outputId": "54981466-5f08-46fe-b2d4-307bda39cb71",
        "colab": {
          "base_uri": "https://localhost:8080/",
          "height": 34
        }
      },
      "source": [
        "%matplotlib\n",
        "from sklearn.metrics import confusion_matrix\n",
        "import itertools\n",
        "import matplotlib.pyplot as plt"
      ],
      "execution_count": 37,
      "outputs": [
        {
          "output_type": "stream",
          "text": [
            "Using matplotlib backend: agg\n"
          ],
          "name": "stdout"
        }
      ]
    },
    {
      "cell_type": "code",
      "metadata": {
        "id": "MOPeakP8ZjDJ"
      },
      "source": [
        "cm = confusion_matrix(y_true = test_labels, y_pred = round_predictions)"
      ],
      "execution_count": 38,
      "outputs": []
    },
    {
      "cell_type": "code",
      "metadata": {
        "id": "7H-kRL5AZs7x"
      },
      "source": [
        "def plot_confusion_matrix(cm, classes, normalize = False,\n",
        "                          title = 'Confusion Matrix',\n",
        "                          cmap = plt.cm.Blues):\n",
        "  \n",
        "  plt.imshow(cm, interpolation = 'nearest', cmap = cmap)\n",
        "  plt.title(title)\n",
        "  plt.colorbar()\n",
        "  tick_marks = np.arange(len(classes))\n",
        "  plt.xticks(tick_marks, classes, rotation = 45)\n",
        "  plt.yticks(tick_marks, classes)\n",
        "\n",
        "  if normalize:\n",
        "    cm = cm.astype('float') / cm.sum(axis=1)[:, np.newaxis]\n",
        "    print(\"Normalized confusion Matrix\")\n",
        "  else:\n",
        "    print(\"Confusion Matrix, without normalization\")\n",
        "\n",
        "  print(cm)\n",
        "\n",
        "  thresh = cm.max()/2.\n",
        "\n",
        "  for i, j in itertools.product(range(cm.shape[0]), range(cm.shape[1])):\n",
        "    plt.text(j, i, cm[i, j],\n",
        "             horizontalalignment = 'center',\n",
        "             color = \"white\" if cm[i, j] > thresh else \"black\")\n",
        "    \n",
        "    plt.tight_layout()\n",
        "    plt.ylabel('True label')\n",
        "    plt.xlabel('Predicted label')"
      ],
      "execution_count": 44,
      "outputs": []
    },
    {
      "cell_type": "code",
      "metadata": {
        "id": "9WmYbWgdcYZQ",
        "outputId": "e21d3ec2-50df-480e-b8d5-cfd977d01efb",
        "colab": {
          "base_uri": "https://localhost:8080/",
          "height": 68
        }
      },
      "source": [
        "cm_plot_labels = ['no_side_effects', 'had_side_effects']\n",
        "plot_confusion_matrix(cm = cm, classes = cm_plot_labels, title = 'Confusion Matrix')"
      ],
      "execution_count": 45,
      "outputs": [
        {
          "output_type": "stream",
          "text": [
            "Confusion Matrix, without normalization\n",
            "[[1220   20]\n",
            " [   0 1200]]\n"
          ],
          "name": "stdout"
        }
      ]
    },
    {
      "cell_type": "code",
      "metadata": {
        "id": "UWC8lJSJcwb_"
      },
      "source": [
        ""
      ],
      "execution_count": null,
      "outputs": []
    }
  ]
}